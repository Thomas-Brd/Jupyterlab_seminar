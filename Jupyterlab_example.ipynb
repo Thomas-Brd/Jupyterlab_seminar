{
 "cells": [
  {
   "cell_type": "markdown",
   "metadata": {},
   "source": [
    "# <center><font color='black'><b> The Jupyter project </b></font>\n",
    "<hr height=\"3\"></hr></center>"
   ]
  },
  {
   "cell_type": "markdown",
   "metadata": {},
   "source": [
    "<center><img src=\"images/Jupyter.PNG\" width=100 height=100> </td></center>"
   ]
  },
  {
   "cell_type": "markdown",
   "metadata": {},
   "source": [
    "# Toward a reproductible science"
   ]
  },
  {
   "cell_type": "markdown",
   "metadata": {},
   "source": [
    "\n",
    "<div class=\"imgContainer\"><img src=\"images/nbviewer.PNG\"  alt=\"nbviewer\" style=\"width: 200px;\"/></div>\n",
    "<div class=\"imgContainer\"><img src=\"images/Binder.PNG\" alt=\"Binder\" style=\"width: 200px;\"/></div>\n"
   ]
  },
  {
   "cell_type": "markdown",
   "metadata": {},
   "source": [
    "[nbviewer](https://nbviewer.jupyter.org/) and [Binder](https://mybinder.org/)"
   ]
  },
  {
   "cell_type": "markdown",
   "metadata": {},
   "source": [
    "Example with the article of [John Armitage](https://www.earth-surf-dynam.net/7/67/2019/) / [Github](https://github.com/johnjarmitage/flem)"
   ]
  },
  {
   "cell_type": "markdown",
   "metadata": {},
   "source": [
    "# Installation"
   ]
  },
  {
   "cell_type": "markdown",
   "metadata": {},
   "source": [
    "<img src=\"images/Conda.PNG\" width=100 height=100> </td>"
   ]
  },
  {
   "cell_type": "markdown",
   "metadata": {},
   "source": [
    "If you use <font color='red'>conda</font>, you can install it with:"
   ]
  },
  {
   "cell_type": "raw",
   "metadata": {},
   "source": [
    "conda install -c conda-forge jupyterlab"
   ]
  },
  {
   "cell_type": "code",
   "execution_count": 2,
   "metadata": {},
   "outputs": [
    {
     "ename": "NameError",
     "evalue": "name 'Blbla' is not defined",
     "output_type": "error",
     "traceback": [
      "\u001b[1;31m---------------------------------------------------------------------------\u001b[0m",
      "\u001b[1;31mNameError\u001b[0m                                 Traceback (most recent call last)",
      "\u001b[1;32m<ipython-input-2-d4e6103801a4>\u001b[0m in \u001b[0;36m<module>\u001b[1;34m\u001b[0m\n\u001b[1;32m----> 1\u001b[1;33m \u001b[0mBlbla\u001b[0m\u001b[1;33m\u001b[0m\u001b[1;33m\u001b[0m\u001b[0m\n\u001b[0m",
      "\u001b[1;31mNameError\u001b[0m: name 'Blbla' is not defined"
     ]
    }
   ],
   "source": [
    "Blabla"
   ]
  },
  {
   "cell_type": "markdown",
   "metadata": {},
   "source": [
    "## pip"
   ]
  },
  {
   "cell_type": "markdown",
   "metadata": {},
   "source": [
    "If you use <font color='red'> pip </font>, you can install it with:"
   ]
  },
  {
   "cell_type": "raw",
   "metadata": {},
   "source": [
    "pip install jupyterlab"
   ]
  },
  {
   "cell_type": "markdown",
   "metadata": {},
   "source": [
    "If installing using <font color='red'> pip install --user</font>, you must add the user-level bin directory to your PATH environment variable in order to launch <font color='red'> jupyter lab</font>."
   ]
  },
  {
   "cell_type": "markdown",
   "metadata": {},
   "source": [
    "## pipenv"
   ]
  },
  {
   "cell_type": "markdown",
   "metadata": {},
   "source": [
    "If you use <font color='red'>pipenv</font>, you can install it as:"
   ]
  },
  {
   "cell_type": "raw",
   "metadata": {},
   "source": [
    "pipenv install jupyterlab\n",
    " pipenv shell"
   ]
  },
  {
   "cell_type": "markdown",
   "metadata": {},
   "source": [
    "or from a git checkout:"
   ]
  },
  {
   "cell_type": "raw",
   "metadata": {},
   "source": [
    "pipenv install git+git://github.com/jupyterlab/jupyterlab.git#egg=jupyterlab\n",
    " pipenv shell"
   ]
  },
  {
   "cell_type": "markdown",
   "metadata": {},
   "source": [
    "When using <font color='red'> pipenv</font>, in order to launch <font color='red'>jupyter lab</font>, you must activate the project’s virtualenv. For example, in the directory where <font color='red'>pipenv</font>’s <font color='red'>Pipfile</font> and <font color='red'>Pipfile.lock</font> live (i.e., where you ran the above commands):"
   ]
  },
  {
   "cell_type": "raw",
   "metadata": {},
   "source": [
    "pipenv shell\n",
    " jupyter lab"
   ]
  },
  {
   "cell_type": "markdown",
   "metadata": {},
   "source": [
    "# Supported browsers"
   ]
  },
  {
   "cell_type": "markdown",
   "metadata": {},
   "source": [
    "The latest versions of the following browsers are currently known to work:\n",
    "* Firefox\n",
    "* Chrome\n",
    "* Safari"
   ]
  },
  {
   "cell_type": "markdown",
   "metadata": {},
   "source": [
    "# Sources and Documentations"
   ]
  },
  {
   "cell_type": "markdown",
   "metadata": {},
   "source": [
    "[Jupyterlab documentation](https://jupyterlab.readthedocs.io/en/stable/index.html)"
   ]
  },
  {
   "cell_type": "code",
   "execution_count": null,
   "metadata": {},
   "outputs": [],
   "source": []
  }
 ],
 "metadata": {
  "kernelspec": {
   "display_name": "Python 3",
   "language": "python",
   "name": "python3"
  },
  "language_info": {
   "codemirror_mode": {
    "name": "ipython",
    "version": 3
   },
   "file_extension": ".py",
   "mimetype": "text/x-python",
   "name": "python",
   "nbconvert_exporter": "python",
   "pygments_lexer": "ipython3",
   "version": "3.7.3"
  }
 },
 "nbformat": 4,
 "nbformat_minor": 4
}
